{
 "cells": [
  {
   "cell_type": "markdown",
   "metadata": {},
   "source": [
    "#Sample locations"
   ]
  },
  {
   "cell_type": "code",
   "execution_count": 5,
   "metadata": {},
   "outputs": [
    {
     "name": "stdout",
     "output_type": "stream",
     "text": [
      "C:\\Users\\j1-ag\\Desktop\\Homework - working\\Group_Project_1\n"
     ]
    }
   ],
   "source": [
    "print(os.getcwd())"
   ]
  },
  {
   "cell_type": "code",
   "execution_count": 20,
   "metadata": {},
   "outputs": [
    {
     "name": "stdout",
     "output_type": "stream",
     "text": [
      "['.DS_Store', '.git', '.ipynb_checkpoints', 'data', 'Final Presentation.pptx', 'gcoos_2017_08_sea_water_practical_salinity.xlsx', 'harvey map.PNG', 'Ideas', 'Maps.ipynb', 'Panda Files', 'Platform_Location.csv', 'PNG Files', 'README.md', 'Resources', 'storm path data.xlsx', 'template 2.pptx', 'Template.pptx', 'working.ipynb']\n"
     ]
    }
   ],
   "source": [
    "print(os.listdir(os.getcwd()))"
   ]
  },
  {
   "cell_type": "code",
   "execution_count": 15,
   "metadata": {},
   "outputs": [],
   "source": [
    "#import dependencies\n",
    "\n",
    "import matplotlib.pyplot as plt\n",
    "import pandas as pd\n",
    "import numpy as np\n",
    "import requests\n",
    "import gmaps\n",
    "import os\n",
    "import json\n",
    "import time\n",
    " \n",
    "\n",
    "# Import API key\n",
    "#from api_keys import g_key\n",
    "\n",
    "\n",
    "\n"
   ]
  },
  {
   "cell_type": "code",
   "execution_count": 36,
   "metadata": {},
   "outputs": [],
   "source": [
    "#load the csv\n",
    "csv_path = os.path.join(\"..\", \"data\", \"Harvey_2017.csv\")\n",
    "#locations_df = pd.read_csv(csv_path)\n",
    "#Locations_df.head()"
   ]
  },
  {
   "cell_type": "code",
   "execution_count": null,
   "metadata": {},
   "outputs": [],
   "source": [
    "#config gmaps\n",
    "gmaps.configure(api_key=g_key)\n",
    "\n",
    "#store the lat and long\n",
    "Plat_locations = Locations_df[[\"Latitude\", \"Longitude\"]].astype(float)\n",
    "\n",
    "#store in humidity\n",
    "Plat_ID = Locations_df[\"Platform ID\"].astype(float)"
   ]
  },
  {
   "cell_type": "code",
   "execution_count": null,
   "metadata": {},
   "outputs": [],
   "source": [
    "# create a poverty Heatmap layer\n",
    "\n",
    "fig = gmaps.figure(center=(48.0, 0.0), zoom_level=1)\n",
    "\n",
    "markers = gmaps.marker_layer(Plat_locations, weights=Platform ID, dissipating=False, max_intensity=100, point_radius = 2, opacity=1)\n",
    " \n",
    "fig.add_layer(markers)\n",
    "plt.savefig(\"../Images/Platform ID Map.png\")\n",
    "\n",
    "fig"
   ]
  }
 ],
 "metadata": {
  "kernelspec": {
   "display_name": "Python 3",
   "language": "python",
   "name": "python3"
  },
  "language_info": {
   "codemirror_mode": {
    "name": "ipython",
    "version": 3
   },
   "file_extension": ".py",
   "mimetype": "text/x-python",
   "name": "python",
   "nbconvert_exporter": "python",
   "pygments_lexer": "ipython3",
   "version": "3.7.6"
  }
 },
 "nbformat": 4,
 "nbformat_minor": 4
}
