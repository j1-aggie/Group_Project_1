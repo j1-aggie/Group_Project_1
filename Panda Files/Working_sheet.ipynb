{
 "cells": [
  {
   "cell_type": "code",
   "execution_count": null,
   "metadata": {},
   "outputs": [],
   "source": [
    "#Set dependencies\n",
    "import matplotlib.pyplot as plt\n",
    "import pandas as pd\n",
    "import numpy as np\n",
    "import gmaps\n",
    "import os\n",
    "from pprint import pprint\n",
    "from scipy.stats import linregress\n",
    "import scipy.stats as st\n",
    "from citypy import citipy\n",
    "\n",
    "\n",
    "#import API key\n",
    "from config import g_key\n",
    "\n",
    "#import csv file\n",
    "salinty_df = \"Resources/  .csv\"\n",
    "temp_df = \"Resources/  .csv\""
   ]
  },
  {
   "cell_type": "code",
   "execution_count": null,
   "metadata": {},
   "outputs": [],
   "source": [
    "# Read the csv and the study results\n",
    "salinty_df = pd.read_csv(salinty_df)\n",
    "temp_df = pd.read_csv(temp_df)\n",
    "\n",
    "# Combine the data into a single dataset\n",
    "combined_data = pd.merge(salinty_df, temp_results_df, on=\"Platform ID\")\n",
    "\n",
    "# Display the data table for preview\n",
    "combined_data.head()"
   ]
  }
 ],
 "metadata": {
  "kernelspec": {
   "display_name": "",
   "name": ""
  },
  "language_info": {
   "codemirror_mode": {
    "name": "ipython",
    "version": 3
   },
   "file_extension": ".py",
   "mimetype": "text/x-python",
   "name": "python",
   "nbconvert_exporter": "python",
   "pygments_lexer": "ipython3",
   "version": "3.7.6"
  }
 },
 "nbformat": 4,
 "nbformat_minor": 4
}
