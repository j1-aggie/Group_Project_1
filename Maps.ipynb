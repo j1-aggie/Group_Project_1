{
 "cells": [
  {
   "cell_type": "markdown",
   "metadata": {},
   "source": [
    "#Sample locations"
   ]
  },
  {
   "cell_type": "code",
   "execution_count": 48,
   "metadata": {},
   "outputs": [],
   "source": [
    "#print(os.getcwd())"
   ]
  },
  {
   "cell_type": "code",
   "execution_count": 49,
   "metadata": {},
   "outputs": [],
   "source": [
    "#print(os.listdir(os.getcwd()))"
   ]
  },
  {
   "cell_type": "code",
<<<<<<< HEAD
   "execution_count": 1,
=======
   "execution_count": 39,
>>>>>>> a55513520200241a208013ac056edafcaa7c1926
   "metadata": {},
   "outputs": [],
   "source": [
    "#import dependencies\n",
    "\n",
    "import matplotlib.pyplot as plt\n",
    "import pandas as pd\n",
    "import numpy as np\n",
    "import requests\n",
    "import gmaps\n",
    "import os\n",
    "import json\n",
    "import time\n",
    " \n",
    "\n",
    "# Import API key\n",
    "from api_keys import g_key\n",
    "csv_path = os.path.join('data/Platform_Location.csv')\n"
   ]
  },
  {
   "cell_type": "code",
<<<<<<< HEAD
   "execution_count": 2,
=======
   "execution_count": 40,
>>>>>>> a55513520200241a208013ac056edafcaa7c1926
   "metadata": {},
   "outputs": [
    {
     "data": {
      "text/html": [
       "<div>\n",
       "<style scoped>\n",
       "    .dataframe tbody tr th:only-of-type {\n",
       "        vertical-align: middle;\n",
       "    }\n",
       "\n",
       "    .dataframe tbody tr th {\n",
       "        vertical-align: top;\n",
       "    }\n",
       "\n",
       "    .dataframe thead th {\n",
       "        text-align: right;\n",
       "    }\n",
       "</style>\n",
       "<table border=\"1\" class=\"dataframe\">\n",
       "  <thead>\n",
       "    <tr style=\"text-align: right;\">\n",
       "      <th></th>\n",
       "      <th>Platform ID</th>\n",
       "      <th>Latitude</th>\n",
       "      <th>Longitude</th>\n",
       "    </tr>\n",
       "  </thead>\n",
       "  <tbody>\n",
       "    <tr>\n",
       "      <th>0</th>\n",
       "      <td>8764314</td>\n",
       "      <td>29.2675</td>\n",
       "      <td>-91.3839</td>\n",
       "    </tr>\n",
       "    <tr>\n",
       "      <th>1</th>\n",
       "      <td>42047</td>\n",
       "      <td>27.8966</td>\n",
       "      <td>-93.5973</td>\n",
       "    </tr>\n",
       "    <tr>\n",
       "      <th>2</th>\n",
       "      <td>42043</td>\n",
       "      <td>28.9818</td>\n",
       "      <td>-94.9186</td>\n",
       "    </tr>\n",
       "    <tr>\n",
       "      <th>3</th>\n",
       "      <td>8770613</td>\n",
       "      <td>29.6817</td>\n",
       "      <td>-94.9850</td>\n",
       "    </tr>\n",
       "    <tr>\n",
       "      <th>4</th>\n",
       "      <td>TABS:X</td>\n",
       "      <td>27.0660</td>\n",
       "      <td>-96.3383</td>\n",
       "    </tr>\n",
       "    <tr>\n",
       "      <th>5</th>\n",
       "      <td>42044</td>\n",
       "      <td>26.1914</td>\n",
       "      <td>-97.0507</td>\n",
       "    </tr>\n",
       "    <tr>\n",
       "      <th>6</th>\n",
       "      <td>42019</td>\n",
       "      <td>27.9070</td>\n",
       "      <td>-95.3530</td>\n",
       "    </tr>\n",
       "  </tbody>\n",
       "</table>\n",
       "</div>"
      ],
      "text/plain": [
       "  Platform ID  Latitude  Longitude\n",
       "0     8764314   29.2675   -91.3839\n",
       "1       42047   27.8966   -93.5973\n",
       "2       42043   28.9818   -94.9186\n",
       "3     8770613   29.6817   -94.9850\n",
       "4      TABS:X   27.0660   -96.3383\n",
       "5       42044   26.1914   -97.0507\n",
       "6       42019   27.9070   -95.3530"
      ]
     },
<<<<<<< HEAD
     "execution_count": 2,
=======
     "execution_count": 40,
>>>>>>> a55513520200241a208013ac056edafcaa7c1926
     "metadata": {},
     "output_type": "execute_result"
    }
   ],
   "source": [
    "#load the csv\n",
    "\n",
    "locations_df = pd.read_csv('data/Platform_Location.csv')\n",
    "locations_df.head(10)"
   ]
  },
  {
   "cell_type": "code",
<<<<<<< HEAD
   "execution_count": 3,
=======
   "execution_count": 41,
>>>>>>> a55513520200241a208013ac056edafcaa7c1926
   "metadata": {},
   "outputs": [
    {
     "data": {
      "text/html": [
       "<div>\n",
       "<style scoped>\n",
       "    .dataframe tbody tr th:only-of-type {\n",
       "        vertical-align: middle;\n",
       "    }\n",
       "\n",
       "    .dataframe tbody tr th {\n",
       "        vertical-align: top;\n",
       "    }\n",
       "\n",
       "    .dataframe thead th {\n",
       "        text-align: right;\n",
       "    }\n",
       "</style>\n",
       "<table border=\"1\" class=\"dataframe\">\n",
       "  <thead>\n",
       "    <tr style=\"text-align: right;\">\n",
       "      <th></th>\n",
       "      <th>Date</th>\n",
       "      <th>Time</th>\n",
       "      <th>Lat</th>\n",
       "      <th>Lon</th>\n",
       "      <th>Wind (mph)</th>\n",
       "      <th>Pressure (mb)</th>\n",
       "      <th>Storm Type</th>\n",
       "    </tr>\n",
       "  </thead>\n",
       "  <tbody>\n",
       "    <tr>\n",
       "      <th>0</th>\n",
       "      <td>8/16/2017</td>\n",
       "      <td>6:00:00 AM</td>\n",
       "      <td>13.700</td>\n",
       "      <td>-45.800</td>\n",
       "      <td>29</td>\n",
       "      <td>1013</td>\n",
       "      <td>Tropical Low</td>\n",
       "    </tr>\n",
       "    <tr>\n",
       "      <th>1</th>\n",
       "      <td>8/16/2017</td>\n",
       "      <td>9:00:00 AM</td>\n",
       "      <td>13.713</td>\n",
       "      <td>-46.600</td>\n",
       "      <td>29</td>\n",
       "      <td>1011</td>\n",
       "      <td>Tropical Low</td>\n",
       "    </tr>\n",
       "    <tr>\n",
       "      <th>2</th>\n",
       "      <td>8/16/2017</td>\n",
       "      <td>12:00:00 PM</td>\n",
       "      <td>13.700</td>\n",
       "      <td>-47.400</td>\n",
       "      <td>29</td>\n",
       "      <td>1010</td>\n",
       "      <td>Tropical Low</td>\n",
       "    </tr>\n",
       "    <tr>\n",
       "      <th>3</th>\n",
       "      <td>8/16/2017</td>\n",
       "      <td>3:00:00 PM</td>\n",
       "      <td>13.650</td>\n",
       "      <td>-48.200</td>\n",
       "      <td>29</td>\n",
       "      <td>1009</td>\n",
       "      <td>Tropical Low</td>\n",
       "    </tr>\n",
       "    <tr>\n",
       "      <th>4</th>\n",
       "      <td>8/16/2017</td>\n",
       "      <td>6:00:00 PM</td>\n",
       "      <td>13.600</td>\n",
       "      <td>-49.000</td>\n",
       "      <td>29</td>\n",
       "      <td>1009</td>\n",
       "      <td>Tropical Low</td>\n",
       "    </tr>\n",
       "    <tr>\n",
       "      <th>5</th>\n",
       "      <td>8/16/2017</td>\n",
       "      <td>9:00:00 PM</td>\n",
       "      <td>13.607</td>\n",
       "      <td>-49.815</td>\n",
       "      <td>29</td>\n",
       "      <td>1009</td>\n",
       "      <td>Tropical Low</td>\n",
       "    </tr>\n",
       "    <tr>\n",
       "      <th>6</th>\n",
       "      <td>8/17/2017</td>\n",
       "      <td>12:00:00 AM</td>\n",
       "      <td>13.600</td>\n",
       "      <td>-50.600</td>\n",
       "      <td>29</td>\n",
       "      <td>1010</td>\n",
       "      <td>Tropical Low</td>\n",
       "    </tr>\n",
       "    <tr>\n",
       "      <th>7</th>\n",
       "      <td>8/17/2017</td>\n",
       "      <td>3:00:00 AM</td>\n",
       "      <td>13.522</td>\n",
       "      <td>-51.315</td>\n",
       "      <td>29</td>\n",
       "      <td>1009</td>\n",
       "      <td>Tropical Low</td>\n",
       "    </tr>\n",
       "    <tr>\n",
       "      <th>8</th>\n",
       "      <td>8/17/2017</td>\n",
       "      <td>6:00:00 AM</td>\n",
       "      <td>13.400</td>\n",
       "      <td>-52.000</td>\n",
       "      <td>29</td>\n",
       "      <td>1008</td>\n",
       "      <td>Tropical Depression</td>\n",
       "    </tr>\n",
       "    <tr>\n",
       "      <th>9</th>\n",
       "      <td>8/17/2017</td>\n",
       "      <td>9:00:00 AM</td>\n",
       "      <td>13.242</td>\n",
       "      <td>-52.685</td>\n",
       "      <td>31</td>\n",
       "      <td>1008</td>\n",
       "      <td>Tropical Depression</td>\n",
       "    </tr>\n",
       "  </tbody>\n",
       "</table>\n",
       "</div>"
      ],
      "text/plain": [
       "        Date         Time     Lat     Lon  Wind (mph)  Pressure (mb)  \\\n",
       "0  8/16/2017   6:00:00 AM  13.700 -45.800          29           1013   \n",
       "1  8/16/2017   9:00:00 AM  13.713 -46.600          29           1011   \n",
       "2  8/16/2017  12:00:00 PM  13.700 -47.400          29           1010   \n",
       "3  8/16/2017   3:00:00 PM  13.650 -48.200          29           1009   \n",
       "4  8/16/2017   6:00:00 PM  13.600 -49.000          29           1009   \n",
       "5  8/16/2017   9:00:00 PM  13.607 -49.815          29           1009   \n",
       "6  8/17/2017  12:00:00 AM  13.600 -50.600          29           1010   \n",
       "7  8/17/2017   3:00:00 AM  13.522 -51.315          29           1009   \n",
       "8  8/17/2017   6:00:00 AM  13.400 -52.000          29           1008   \n",
       "9  8/17/2017   9:00:00 AM  13.242 -52.685          31           1008   \n",
       "\n",
       "            Storm Type  \n",
       "0         Tropical Low  \n",
       "1         Tropical Low  \n",
       "2         Tropical Low  \n",
       "3         Tropical Low  \n",
       "4         Tropical Low  \n",
       "5         Tropical Low  \n",
       "6         Tropical Low  \n",
       "7         Tropical Low  \n",
       "8  Tropical Depression  \n",
       "9  Tropical Depression  "
      ]
     },
<<<<<<< HEAD
     "execution_count": 3,
=======
     "execution_count": 41,
>>>>>>> a55513520200241a208013ac056edafcaa7c1926
     "metadata": {},
     "output_type": "execute_result"
    }
   ],
   "source": [
    "#load harvey path\n",
    "hurc_df = pd.read_csv('data/Harvey_Path.csv')\n",
    "hurc_df.head(10)"
   ]
  },
  {
   "cell_type": "code",
<<<<<<< HEAD
   "execution_count": 4,
=======
   "execution_count": 42,
>>>>>>> a55513520200241a208013ac056edafcaa7c1926
   "metadata": {},
   "outputs": [],
   "source": [
    "hurc_path = hurc_df[[\"Lat\", \"Lon\"]].astype(float)"
   ]
  },
  {
   "cell_type": "code",
<<<<<<< HEAD
   "execution_count": 5,
=======
   "execution_count": 43,
>>>>>>> a55513520200241a208013ac056edafcaa7c1926
   "metadata": {},
   "outputs": [],
   "source": [
    "#config gmaps\n",
    "gmaps.configure(api_key=g_key)\n",
    "\n",
    "#store the lat and long\n",
    "Plat_locations = locations_df[[\"Latitude\", \"Longitude\"]]\n",
    "\n",
    "#store Platform ID in Plat ID \n",
    "Plat_ID = locations_df[\"Platform ID\"].astype"
   ]
  },
  {
   "cell_type": "code",
<<<<<<< HEAD
   "execution_count": 7,
=======
   "execution_count": 47,
>>>>>>> a55513520200241a208013ac056edafcaa7c1926
   "metadata": {},
   "outputs": [
    {
     "data": {
      "application/vnd.jupyter.widget-view+json": {
<<<<<<< HEAD
       "model_id": "15e71e23c3d84b2483d40f07a6203bd2",
=======
       "model_id": "65e570c2135a4a5cb9ecc68344b4eba2",
>>>>>>> a55513520200241a208013ac056edafcaa7c1926
       "version_major": 2,
       "version_minor": 0
      },
      "text/plain": [
<<<<<<< HEAD
       "Figure(layout=FigureLayout(border='1px solid black', height='600px', padding='6px', width='900px'))"
=======
       "Figure(layout=FigureLayout(height='420px'))"
>>>>>>> a55513520200241a208013ac056edafcaa7c1926
      ]
     },
     "metadata": {},
     "output_type": "display_data"
    },
    {
     "data": {
      "text/plain": [
       "<Figure size 432x288 with 0 Axes>"
      ]
     },
     "metadata": {},
     "output_type": "display_data"
    }
   ],
   "source": [
    "# create a map\n",
<<<<<<< HEAD
    "\n",
    "#fig = gmaps.figure(layout={\n",
    "       # 'width': '1000px',\n",
    "       # 'height': '600px',\n",
    "       # 'padding': '6px',\n",
    "        #'border': '1px solid black'\n",
    "#})\n",
    "fig = gmaps.figure(center=(30.0, -83.0), zoom_level=5.2, layout={\n",
    "        'width': '900px',\n",
    "        'height': '600px',\n",
    "        'padding': '6px',\n",
    "        'border': '1px solid black'\n",
    "})\n",
=======
    "fig = gmaps.figure(center=(30.0, -90.0), zoom_level=5.2)\n",
    "\n",
>>>>>>> a55513520200241a208013ac056edafcaa7c1926
    "#create symbol layer for platforms\n",
    "geo_layer = gmaps.symbol_layer(Plat_locations, fill_color=\"black\", stroke_color='black', fill_opacity=1,\n",
    "                              #info_box_content=[f\"ID: {platform}\" for platform in Plat_locations]\n",
    "                              )\n",
    "hurc_layer = gmaps.symbol_layer(hurc_path, fill_color=\"green\", stroke_color='green', fill_opacity=1,)\n",
    "\n",
<<<<<<< HEAD
    "#ID_layer = gmaps.marker_layer(Plat_locations, hover_text =['8764314', '42047', '42043', '8770613', 'TABS:X', '42044', '42019'])\n",
    "\n",
    "fig.add_layer(geo_layer) \n",
    "fig.add_layer(hurc_layer)\n",
    "#fig.add_layer(ID_layer)\n",
    "plt.savefig(\"images/Platform ID Map.png\")\n",
=======
    "ID_layer = gmaps.\n",
    "\n",
    "fig.add_layer(geo_layer) \n",
    "fig.add_layer(hurc_layer)\n",
    "plt.savefig(\"PNG Files/Platform ID Map.png\")\n",
>>>>>>> a55513520200241a208013ac056edafcaa7c1926
    "\n",
    "fig"
   ]
  },
  {
   "cell_type": "code",
   "execution_count": null,
   "metadata": {},
   "outputs": [],
   "source": []
  },
  {
   "cell_type": "code",
   "execution_count": null,
   "metadata": {},
   "outputs": [],
   "source": []
  }
 ],
 "metadata": {
  "kernelspec": {
   "display_name": "Python 3",
   "language": "python",
   "name": "python3"
  },
  "language_info": {
   "codemirror_mode": {
    "name": "ipython",
    "version": 3
   },
   "file_extension": ".py",
   "mimetype": "text/x-python",
   "name": "python",
   "nbconvert_exporter": "python",
   "pygments_lexer": "ipython3",
   "version": "3.7.6"
  }
 },
 "nbformat": 4,
 "nbformat_minor": 4
}
